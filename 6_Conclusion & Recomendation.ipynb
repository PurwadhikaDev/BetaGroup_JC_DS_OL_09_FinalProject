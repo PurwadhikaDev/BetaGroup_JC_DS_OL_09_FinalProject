{
 "cells": [
  {
   "cell_type": "code",
   "execution_count": 1,
   "metadata": {},
   "outputs": [],
   "source": [
    "import pandas as pd\n",
    "import numpy as np\n",
    "import math\n",
    "import statsmodels.api as sm\n",
    "import missingno\n",
    "\n",
    "\n",
    "import seaborn as sns\n",
    "import matplotlib.pyplot as plt"
   ]
  },
  {
   "attachments": {},
   "cell_type": "markdown",
   "metadata": {},
   "source": [
    "## Conclusion\n",
    "\n",
    "Setelah dilakukan analisa, ada beberapa insight menarik yang kami dapatkan:\n",
    "- Dari tahun 2010 hingga 2016 harga properti mengalami kenaikan tapi pada tahun 2017 mengalami penurunan.\n",
    "- Harga propeti cenderung turun di sekitar kuartal 3 khususnya kuartal 1 atau saat akhir musim panas dan pertengahan musim dingin.\n",
    "- Area North West memiliki ward dan neighborhood dengan median harga tertinggi dibanding area lainnya, dengan area South (South East & South West) memiliki ward dan neighborhood dengan median harga terendah.\n",
    "- Rumah yang pernah direnovasi cenderung memiliki harga yang lebih tinggi dibanding yang belum. Akan tetapi untuk condominium yang sudah di renovasi cenderung lebih rendah daripada yang belum direnovasi.\n",
    "- Semakin banyak jumlah ruangan pada properti luas GBA serta living GBA cenderung naik, dimana semakin besar GBA dan Living GBA harga properti cenderung naik.\n",
    "- Untuk properti residential, rumah dengan struktur row memiliki harga tinggi dimana rumah dengan struktur ini umumnya berada dekat dengan pusat kota, sedangkan rumah dengan struktur semi-detached dan multi memilik harga yang relatif rendah karena selain berbagi bangunan dan lahan juga umumnya terlatak di pinggir kota.\n",
    "\n",
    "\n",
    "Kami juga telah membangun model regresi untuk properti jenis residential dan condominium secara terpisah:\n",
    "- Setelah dilakukan modeling pada properti residential menggunakan metric Mean Absolute Error (MAE) dan Mean Absolute Percentage Error (MAPE), didapatkan skor MAE sebesar 65683.715867 artinya ada perbedaan harga aktual dengan harga prediksi sebesar $.65.683 dengan harga aktual, sedangkan untuk MAPE didapatkan skor sebesar 0.116774 artinya rata-rata ada error atau perbedaan harga prediksi model dengan harga aktual sebesar 11%. Fitur yang paling berpengaruh pada model ini adalah fitur Fireplaces\n",
    "- Untuk properti condominium setelah dilakukan modeling dengan metric yang sama, didapatkan skor MAE sebesar 46786.894638 dan skor MAPE sebesar 0.110898. Artinya untuk skor MAE ada error sebesar $.46.786 antara harga aktual dengan harga prediksi. Sedangkan untuk MAPE ada error sebesar 11% antara harga aktual dengan harga yang diprediksi model. Fitur yang paling berpengaruh ada model ini ialah fitur BATHRM.\n",
    "\n",
    "Terdapat limitasi dari model, diantaranya:\n",
    "* `PRICE`:      $1 - $1.270.000\n",
    "* `SALEYEAR`:   1990 - 2018\n",
    "* `LANDAREA` (CONDOMINIUM):   0 - 7015 ft2\n",
    "* `STORIES`(RESIDENTIAL):      1 - 6\n",
    "* `FIREPLACES`: 0 - 13\n",
    "\n",
    "Dari skor diatas, model dapat dikatakan cukup baik dalam memprediksi harga properti dimana error yang didapat masih dapat diterima. Dimana error ini mungkin dapat disesuaikan lagi dengan domain knowledge yang dimiliki oleh konsultan properti.\n",
    "\n",
    "## Recommendation\n",
    "\n",
    "Ada beberapa rekomendasi untuk meningkatkan model:\n",
    "- model dapat ditambahkan tingkat inflasi atau kenaikan suku bunga bank untuk memprediksi kenaikan harga properti setiap tahun.\n",
    "- Melakukan analisis lebih lanjut terhadap perbandingan tingkat kepuasan pembeli terhadap properti yang dibeli.\n",
    "\n",
    "Sementara terkait pembelian properti ada beberapa rekomendasi yang kami berikan:\n",
    "- Membeli properti di sekitar awal musim gugur ataupun pertengahan musim dingin dengan pertimbangan harga lebih murah tapi pilihan properti terbatas serta waktu dan faktor cuaca yang tidak tepat untuk pindah.\n",
    "- Membeli properti di area North West jika ingin fasilitas umum yang baik, lingkungan yang aman serta lokasi yang dekat dengan pusat kota dengan pertimbangan harga lebih mahal. Sedangkan jika ingin properti murah bisa memilih area South East dengan pertimbangan lokasi berada di pinggir kota.\n",
    "- Pertimbangkan jumlah ruangan  pada properti yang diinginkan serta GBA untuk rumah dan Living GBA untuk condominium mengingat ketiga hal ini memiliki hubungan positif dengan harga properti.\n",
    "- Menggunakan model untuk memprediksi harga rumah dimana prediksi ini berlaku sebagai dasar atau valuasi dalam bernegosiasi harga rumah yang sesungguhnya\n",
    "- Perhatikan terus tren harga rumah karena tidak bisa diprediksi secara pasti apakah tahun depan harga akan turun atau naik.\n",
    "- Jika anda belum memiliki budget untuk merenovasi properti, anda bisa mempertimbangkan membeli condominium dimana condominium yang sudah direnovasi lebih murah daripada rumah yang sudah direnovasi."
   ]
  }
 ],
 "metadata": {
  "kernelspec": {
   "display_name": "Python 3",
   "language": "python",
   "name": "python3"
  },
  "language_info": {
   "codemirror_mode": {
    "name": "ipython",
    "version": 3
   },
   "file_extension": ".py",
   "mimetype": "text/x-python",
   "name": "python",
   "nbconvert_exporter": "python",
   "pygments_lexer": "ipython3",
   "version": "3.10.11"
  },
  "orig_nbformat": 4
 },
 "nbformat": 4,
 "nbformat_minor": 2
}
